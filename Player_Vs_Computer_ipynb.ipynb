{
  "nbformat": 4,
  "nbformat_minor": 0,
  "metadata": {
    "colab": {
      "name": "Player Vs Computer. ipynb",
      "provenance": [],
      "collapsed_sections": [],
      "authorship_tag": "ABX9TyOfskO6kxX5xcnRkZgduvP1",
      "include_colab_link": true
    },
    "kernelspec": {
      "name": "python3",
      "display_name": "Python 3"
    },
    "language_info": {
      "name": "python"
    }
  },
  "cells": [
    {
      "cell_type": "markdown",
      "metadata": {
        "id": "view-in-github",
        "colab_type": "text"
      },
      "source": [
        "<a href=\"https://colab.research.google.com/github/Gholap-Pragati/Mind-Reader-Game/blob/main/Player_Vs_Computer_ipynb.ipynb\" target=\"_parent\"><img src=\"https://colab.research.google.com/assets/colab-badge.svg\" alt=\"Open In Colab\"/></a>"
      ]
    },
    {
      "cell_type": "code",
      "execution_count": 1,
      "metadata": {
        "colab": {
          "base_uri": "https://localhost:8080/"
        },
        "id": "zhkEi6R8QP15",
        "outputId": "17626c4c-874c-4d6f-c415-066eddc02563"
      },
      "outputs": [
        {
          "output_type": "stream",
          "name": "stdout",
          "text": [
            "Enter either 0 or 1: 0\n",
            "Computer Score: 0\n",
            "Player Score: 1\n",
            "Enter either 0 or 1: 1\n",
            "Computer Score: 0\n",
            "Player Score: 2\n",
            "Enter either 0 or 1: 1\n",
            "Computer Score: 1\n",
            "Player Score: 2\n",
            "Enter either 0 or 1: 1\n",
            "Computer Score: 2\n",
            "Player Score: 2\n",
            "Enter either 0 or 1: 0\n",
            "Computer Score: 2\n",
            "Player Score: 3\n",
            "Enter either 0 or 1: 1\n",
            "Computer Score: 3\n",
            "Player Score: 3\n",
            "Enter either 0 or 1: 0\n",
            "Computer Score: 3\n",
            "Player Score: 4\n",
            "Enter either 0 or 1: 0\n",
            "Computer Score: 3\n",
            "Player Score: 5\n",
            "Enter either 0 or 1: 1\n",
            "Computer Score: 4\n",
            "Player Score: 5\n",
            "Enter either 0 or 1: 0\n",
            "Computer Score: 4\n",
            "Player Score: 6\n",
            "Enter either 0 or 1: 1\n",
            "Computer Score: 5\n",
            "Player Score: 6\n",
            "Enter either 0 or 1: 0\n",
            "Computer Score: 5\n",
            "Player Score: 7\n",
            "Enter either 0 or 1: 0\n",
            "Computer Score: 5\n",
            "Player Score: 8\n",
            "Enter either 0 or 1: 1\n",
            "Computer Score: 5\n",
            "Player Score: 9\n",
            "Enter either 0 or 1: 0\n",
            "Computer Score: 5\n",
            "Player Score: 10\n",
            "Congrats, You Won!\n"
          ]
        }
      ],
      "source": [
        "# Run the game by calling the 'gameplay()' function at the end of the code cell.\n",
        "import random\n",
        "\n",
        "count_zero = 0\n",
        "count_one = 0\n",
        "\n",
        "player_score = 0\n",
        "computer_score = 0\n",
        "\n",
        "def prediction():\n",
        "  if count_zero > count_one:\n",
        "    predict = 0\n",
        "  elif count_one > count_zero:\n",
        "    predict = 1\n",
        "  else:\n",
        "    predict = random.randint(0, 1)\n",
        "  \n",
        "  return predict\n",
        "\n",
        "def update_counts(player_input):\n",
        "  global count_zero, count_one\n",
        "  if player_input == 0:\n",
        "    count_zero = count_zero + 1\n",
        "  else:\n",
        "    count_one = count_one + 1\n",
        "\n",
        "def update_scores(predicted, player_input):\n",
        "  global player_score, computer_score\n",
        "  if predicted == player_input:\n",
        "    computer_score = computer_score + 1\n",
        "    print(\"Computer Score:\", computer_score)\n",
        "    print(\"Player Score:\", player_score)\n",
        "  else:\n",
        "    player_score = player_score + 1\n",
        "    print(\"Computer Score:\", computer_score)\n",
        "    print(\"Player Score:\", player_score)\n",
        "\n",
        "def gameplay():\n",
        "  valid_entries = ['0', '1']\n",
        "  while True:\n",
        "    # Get the predicted value and stored it in the 'predicted' variable.\n",
        "    predicted = prediction()\n",
        "    # Take input from the player and store it in the 'player_input' variable.\n",
        "    player_input = input(\"Enter either 0 or 1: \")\n",
        "    while player_input not in valid_entries:\n",
        "      print(\"Invalid Input!\")\n",
        "      player_input = input(\"Please enter either 0 or 1: \")\n",
        "    \n",
        "    # Convert the 'player_input' value to an integer value.\n",
        "    player_input = int(player_input)\n",
        "\n",
        "    # Update the 'count_zero' and 'count_one' values using the 'update_counts()' function.\n",
        "    update_counts(player_input)\n",
        "\n",
        "    # Update the 'player_score' and 'computer_score' values using the 'update_scores()' function.\n",
        "    update_scores(predicted, player_input)\n",
        "\n",
        "    if player_score == 10:\n",
        "      print(\"Congrats, You Won!\")\n",
        "      break\n",
        "    elif computer_score == 10:\n",
        "      print(\"Bad Luck, You Lost!\")\n",
        "      break\n",
        "\n",
        "# Call the 'gameplay()' function to run the game.\n",
        "gameplay()\n"
      ]
    }
  ]
}